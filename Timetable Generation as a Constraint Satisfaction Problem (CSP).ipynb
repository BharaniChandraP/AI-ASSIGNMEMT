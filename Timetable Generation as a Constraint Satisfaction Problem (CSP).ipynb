import time
import copy
import matplotlib.pyplot as plt

class TimetableScheduler:
    
    def __init__(self, courses, possible_slots, course_conflicts, instructor_map):
        self.courses = courses
        self.possible_slots = possible_slots
        self.course_conflicts = course_conflicts
        self.instructor_map = instructor_map

        self.final_schedule = None
        self.assignments_tried = 0
        self.failed_paths = 0

    def generate_schedule(self, algorithm_type='mrv_lcv'):
       
        self.assignments_tried = 0
        self.failed_paths = 0
        self.final_schedule = None

        # Deep copy the domains so we don't modify the original
        current_possible_slots = copy.deepcopy(self.possible_slots)

        if algorithm_type == 'mrv_lcv':
            self.final_schedule = self._solve_with_heuristics({}, current_possible_slots)
        elif algorithm_type == 'forward_checking':
            self.final_schedule = self._solve_with_forward_check({}, current_possible_slots)
        else:
            raise ValueError("Invalid solving method specified")

        return self.final_schedule

    def _check_consistency(self, course, slot, current_schedule):
        
        for scheduled_course, scheduled_slot in current_schedule.items():
            # Constraint 1: Two courses cannot be in the same room at the same time
            if scheduled_slot == slot:
                return False

            # Constraint 2: An instructor cannot teach two courses at the same time
            if self.instructor_map[course] == self.instructor_map[scheduled_course] and slot[0] == scheduled_slot[0]:
                return False
        return True

    def _pick_course_mrv(self, current_schedule, current_possible_slots):
        
        unscheduled_courses = [c for c in self.courses if c not in current_schedule]
        return min(unscheduled_courses, key=lambda course: len(current_possible_slots[course]))

    def _sort_slots_lcv(self, course, current_possible_slots, current_schedule):
        
        def tally_conflicts(slot):
            conflict_count = 0
           
            for conflicting_course in self.course_conflicts[course]:
                if conflicting_course not in current_schedule:
                   
                    for conflicting_slot in current_possible_slots[conflicting_course]:
                        
                        if slot == conflicting_slot:
                            conflict_count += 1
                        
                        elif (slot[0] == conflicting_slot[0] and 
                              self.instructor_map[course] == self.instructor_map[conflicting_course]):
                            conflict_count += 1
            return conflict_count

        return sorted(current_possible_slots[course], key=tally_conflicts)

    def _solve_with_heuristics(self, current_schedule, current_possible_slots):
        """
        Recursive backtracking solver using MRV and LCV.
        """
        if len(current_schedule) == len(self.courses):
            return current_schedule 

        course = self._pick_course_mrv(current_schedule, current_possible_slots)

        for slot in self._sort_slots_lcv(course, current_possible_slots, current_schedule):
            self.assignments_tried += 1
            if self._check_consistency(course, slot, current_schedule):
                current_schedule[course] = slot
                
                
                found_schedule = self._solve_with_heuristics(current_schedule, current_possible_slots)
                if found_schedule is not None:
                    return found_schedule
                
                
                del current_schedule[course]

        self.failed_paths += 1
        return None

    def _solve_with_forward_check(self, current_schedule, current_possible_slots):
        """
        Recursive backtracking solver using MRV and Forward Checking.
        """
        if len(current_schedule) == len(self.courses):
            return current_schedule  

        course = self._pick_course_mrv(current_schedule, current_possible_slots)

        for slot in current_possible_slots[course]:
            self.assignments_tried += 1
            if self._check_consistency(course, slot, current_schedule):
                current_schedule[course] = slot

                
                temp_possible_slots = copy.deepcopy(current_possible_slots)
                temp_possible_slots[course] = [slot] 
                
                is_viable_path = True
                
                for conflicting_course in self.course_conflicts[course]:
                    if conflicting_course not in current_schedule:
                        slots_to_prune = []
                        
                        for conflicting_slot in temp_possible_slots[conflicting_course]:
                            
                            
                            if conflicting_slot == slot:
                                slots_to_prune.append(conflicting_slot)
                            
                            elif (self.instructor_map[course] == self.instructor_map[conflicting_course] and 
                                  conflicting_slot[0] == slot[0]):
                                slots_to_prune.append(conflicting_slot)

                        
                        for slot_to_remove in slots_to_prune:
                            if slot_to_remove in temp_possible_slots[conflicting_course]:
                                temp_possible_slots[conflicting_course].remove(slot_to_remove)

                       
                        if not temp_possible_slots[conflicting_course]:
                            is_viable_path = False
                            break 
               

                if is_viable_path:
                    
                    found_schedule = self._solve_with_forward_check(current_schedule, temp_possible_slots)
                    if found_schedule is not None:
                        return found_schedule

                
                del current_schedule[course]

        self.failed_paths += 1
        return None


def define_problem_instance():
    """
    Sets up the problem constraints (courses, instructors, rooms, etc.)
    """
    course_list = ['CS101', 'MAT202', 'ENG101', 'TAM201', 'SCI101', 'DA305']
    instructor_map = {
        'CS101': 'Prof.Kumar',
        'MAT202': 'Prof. Bala',
        'ENG101': 'Prof. Mala',
        'TAM201': 'Prof. kala',
        'SCI101': 'Prof.Devi',
        'DA305': 'Prof. Saxena'
    }

    all_times = ['Mon10', 'Mon11', 'Tue10', 'Tue11']
    all_rooms = ['R1', 'R2', 'LAB_A1']

    possible_slots = {}
    for course_name in course_list:
        if course_name == 'SCI101':
            
            possible_slots[course_name] = [(t, 'LAB_A1') for t in all_times]
        else:
            lecture_halls = [r for r in all_rooms if r != 'LAB_A1']
            possible_slots[course_name] = [(t, r) for t in all_times for r in lecture_halls]

   
    course_conflicts = {c: [other_course for other_course in course_list if other_course != c] for c in course_list}

    return course_list, possible_slots, course_conflicts, instructor_map

def display_schedule(schedule, instructors):
    """
    Pretty-prints the final schedule to the console.
    """
    if schedule is None:
        print("No solution found.")
        return

    print(f"\n{'Class':<10} | {'Teacher':<15} | {'Time Slot':<10} | {'Room':<10}")
    print("-" * 55)
    
    sorted_schedule = sorted(schedule.items(), key=lambda item: (item[1][0], item[1][1]))
    for course, slot in sorted_schedule:
        instructor_name = instructors[course]
        print(f"{course:<10} | {instructor_name:<15} | {slot[0]:<10} | {slot[1]:<10}")


def plot_comparison_graphs(time_h, assign_h, fail_h, time_f, assign_f, fail_f):
    """
    Generates bar charts to compare the two algorithms.
    """
    labels = ['MRV + LCV', 'Forward Checking']
    colors = ['#1f77b4', '#ff7f0e'] 

    
    fig, (ax1, ax2, ax3) = plt.subplots(1, 3, figsize=(18, 6))
    fig.suptitle('Algorithm Performance Comparison', fontsize=16)

    
    times = [time_h, time_f]
    max_time = max(times) if times else 0.01 
    ax1.bar(labels, times, color=colors)
    ax1.set_title('Time Taken Comparison')
    ax1.set_ylabel('Time (seconds)')
    
    for i, v in enumerate(times):
        ax1.text(i, v + (max_time * 0.05), f"{v:.6f}", ha='center', fontweight='bold')
    ax1.set_ylim(top=max_time * 1.15) 

    
    assignments = [assign_h, assign_f]
    max_assign = max(assignments) if assignments else 1
    ax2.bar(labels, assignments, color=colors)
    ax2.set_title('Assignments Tried Comparison')
    ax2.set_ylabel('Count')
    
    
    if any(v > 0 for v in assignments):
        ax2.set_yscale('log')
        for i, v in enumerate(assignments):
            if v > 0:
                ax2.text(i, v * 1.1, str(v), ha='center', fontweight='bold')
    else:
        for i, v in enumerate(assignments):
            ax2.text(i, v + (max_assign * 0.05), str(v), ha='center', fontweight='bold')
        ax2.set_ylim(top=max_assign * 1.15)


    
    failed_paths = [fail_h, fail_f]
    max_fail = max(failed_paths) if failed_paths else 1
    ax3.bar(labels, failed_paths, color=colors)
    ax3.set_title('Failed Paths (Backtracks) Comparison')
    ax3.set_ylabel('Count')

    
    if any(v > 0 for v in failed_paths):
        ax3.set_yscale('log')
        for i, v in enumerate(failed_paths):
            if v > 0:
                ax3.text(i, v * 1.1, str(v), ha='center', fontweight='bold')
    else:
        
        for i, v in enumerate(failed_paths):
            ax3.text(i, v + (max_fail * 0.05), str(v), ha='center', fontweight='bold')
        
        if max_fail == 0:
            ax3.set_ylim(-0.1, 1) 
        else:
            ax3.set_ylim(top=max_fail * 1.15)


    plt.tight_layout(rect=[0, 0.03, 1, 0.95]) # Adjust layout for main title
    plt.show()



if __name__ == "__main__":
    
   
    courses, domains, constraints, teachers = define_problem_instance()

  
    print("--- Solving with Backtracking (MRV + LCV Heuristics) ---")
    scheduler_heuristic = TimetableScheduler(courses, domains, constraints, teachers)
    start_heuristic = time.time()
    schedule_heuristic = scheduler_heuristic.generate_schedule(algorithm_type='mrv_lcv')
    end_heuristic = time.time()

    display_schedule(schedule_heuristic, teachers)
    
   
    time_heuristic = end_heuristic - start_heuristic
    assignments_heuristic = scheduler_heuristic.assignments_tried
    failed_heuristic = scheduler_heuristic.failed_paths
    
    print(f"Time taken: {time_heuristic:.6f} seconds")
    print(f"Assignments tried: {assignments_heuristic}")
    print(f"Failed paths: {failed_heuristic}")
    print("\n" + "="*55 + "\n")


    # --- 3. Run Forward Checking ---
    print("--- Solving with Backtracking (Forward Checking) ---")
    scheduler_forward = TimetableScheduler(courses, domains, constraints, teachers)
    start_forward = time.time()
    schedule_forward = scheduler_forward.generate_schedule(algorithm_type='forward_checking')
    end_forward = time.time()

    display_schedule(schedule_forward, teachers)
    
   
    time_forward = end_forward - start_forward
    assignments_forward = scheduler_forward.assignments_tried
    failed_forward = scheduler_forward.failed_paths
    
    print(f"Time taken: {time_forward:.6f} seconds")
    print(f"Assignments tried: {assignments_forward}")
    print(f"Failed paths: {failed_forward}")
    
   
    print("\nGenerating comparison graph...")
    plot_comparison_graphs(
        time_heuristic, assignments_heuristic, failed_heuristic,
        time_forward, assignments_forward, failed_forward
    )
