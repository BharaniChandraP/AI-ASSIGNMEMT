
import heapq
import math
import random
import time

class CellNode:
    def __init__(self, pos, parent=None):
        self.position = pos
        self.parent = parent
        self.g_cost_value = 0
        self.h_cost_value = 0
        self.f_cost_value = 0

    def __eq__(self, other):
        return self.position == other.position

    def __lt__(self, other):
        return self.f_cost_value < other.f_cost_value

    def __hash__(self):
        return hash(self.position)

def generate_grid_map(width, height, obstacle_rate):
    grid_map = [[0 for _ in range(width)] for _ in range(height)]

    obstacle_count = int(width * height * obstacle_rate / 100)
    for _ in range(obstacle_count):
        col, row = random.randint(0, width - 1), random.randint(0, height - 1)
        grid_map[row][col] = 1

    while True:
        start_column, start_row = random.randint(0, width - 2), random.randint(0, height - 2)
        if grid_map[start_row][start_column] == 0:
            start_coords = (start_column, start_row)
            break

    while True:
        goal_column, goal_row = random.randint(0, width - 1), random.randint(0, height - 1)
        if grid_map[goal_row][goal_column] == 0 and (goal_column, goal_row) != start_coords:
            goal_coords = (goal_column, goal_row)
            break

    return grid_map, start_coords, goal_coords

def display_path_on_grid(grid_map, path_coords):
    path_set = set(path_coords)
    for row_index, row in enumerate(grid_map):
        row_str = ""
        for col_index, cell_value in enumerate(row):
            if (col_index, row_index) in path_set:
                row_str += "* "
            elif cell_value == 1:
                row_str += "# "
            else:
                row_str += ". "
        print(row_str)


def heuristic_manhattan(current_coord, end_coord):
    return abs(current_coord[0] - end_coord[0]) + abs(current_coord[1] - end_coord[1])

def heuristic_euclidean(current_coord, end_coord):
    return math.sqrt((current_coord[0] - end_coord[0])**2 + (current_coord[1] - end_coord[1])**2)

def heuristic_diagonal(current_coord, end_coord):
    return max(abs(current_coord[0] - end_coord[0]), abs(current_coord[1] - end_coord[1]))

def heuristic_zero(current_coords, end_coords):
    return 0

def find_a_star_path(grid_map, start_coords, goal_coords, heuristic_func):
    start_cell = CellNode(start_coords)
    end_cell = CellNode(goal_coords)

    open_priority_queue = []
    closed_visited_set = set()

    heapq.heappush(open_priority_queue, start_cell)

    expanded_nodes_count = 0

    height = len(grid_map)
    width = len(grid_map[0])

    while open_priority_queue:
        current_cell = heapq.heappop(open_priority_queue)
        expanded_nodes_count += 1

        if current_cell.position in closed_visited_set:
            continue

        closed_visited_set.add(current_cell.position)

        if current_cell == end_cell:
            path_coords = []
            path_tracer_cell = current_cell
            while path_tracer_cell is not None:
                path_coords.append(path_tracer_cell.position)
                path_tracer_cell = path_tracer_cell.parent
            path_coords.reverse()
            return path_coords, expanded_nodes_count, len(path_coords) - 1

        neighbors = []
        for move_delta in [(0, -1), (0, 1), (-1, 0), (1, 0)]:
            neighbor_coords = (current_cell.position[0] + move_delta[0],
                               current_cell.position[1] + move_delta[1])

            if not (0 <= neighbor_coords[0] < width and 0 <= neighbor_coords[1] < height):
                continue

            if grid_map[neighbor_coords[1]][neighbor_coords[0]] == 1:
                continue

            neighbor_cell = CellNode(neighbor_coords, current_cell)
            neighbors.append(neighbor_cell)

        for neighbor_cell in neighbors:
            if neighbor_cell.position in closed_visited_set:
                continue

            neighbor_cell.g_cost_value = current_cell.g_cost_value + 1
            neighbor_cell.h_cost_value = heuristic_func(neighbor_cell.position, end_cell.position)
            neighbor_cell.f_cost_value = neighbor_cell.g_cost_value + neighbor_cell.h_cost_value

            is_in_open_list_with_worse_cost = False
            for existing_open_cell in open_priority_queue:
                if neighbor_cell == existing_open_cell and neighbor_cell.f_cost_value >= existing_open_cell.f_cost_value:
                    is_in_open_list_with_worse_cost = True
                    break

            if is_in_open_list_with_worse_cost:
                continue

            heapq.heappush(open_priority_queue, neighbor_cell)

    return None, expanded_nodes_count, 0


def run_heuristic_comparison(total_runs, width, height, obstacle_rate):
    heuristic_methods = {
        "Manhattan": heuristic_manhattan,
        "Euclidean": heuristic_euclidean,
        "Diagonal": heuristic_diagonal,
        "Zero (Dijkstra)": heuristic_zero
    }

    experiment_data = {name: {"nodes": [], "time": [], "path_length": []} for name in heuristic_methods}

    print(f"Running experiment for {total_runs} iterations...\n")

    for i in range(total_runs):
        print(f"Run {i + 1}/{total_runs}")
        grid_map, start_coords, goal_coords = generate_grid_map(width,height, obstacle_rate)

        for heuristic_name, h_function in heuristic_methods.items():
            time_start = time.time()
            path_coords, node_count, path_len = find_a_star_path(grid_map, start_coords, goal_coords, h_function)
            time_end = time.time()

            if path_coords:
                experiment_data[heuristic_name]["nodes"].append(node_count)
                experiment_data[heuristic_name]["time"].append(time_end - time_start)
                experiment_data[heuristic_name]["path_length"].append(path_len)

    print("\n--- Experiment Results ---")
    print(f"{'Heuristic':<20} | {'Avg Nodes Expanded':<20} | {'Avg Time (s)':<15} | {'Avg Path Length':<15}")
    print("-" * 75)

    node_chart_data = []

    for heuristic_name in heuristic_methods:
        runs_with_path = len(experiment_data[heuristic_name]["nodes"])
        if runs_with_path > 0:
            avg_expanded_nodes = sum(experiment_data[heuristic_name]["nodes"]) / runs_with_path
            avg_exec_time = sum(experiment_data[heuristic_name]["time"]) / runs_with_path
            avg_path_len = sum(experiment_data[heuristic_name]["path_length"]) / runs_with_path
        else:
            avg_expanded_nodes = avg_exec_time = avg_path_len = 0

        node_chart_data.append(round(avg_expanded_nodes, 2))

        print(f"{heuristic_name:<20} | {avg_expanded_nodes:<20.2f} | {avg_exec_time:<15.5f} | {avg_path_len:<15.2f}")

    print("\n--- Data for Chart ---")
    print("Copy the following array into your report/charting tool:")
    print(f"Labels: {list(heuristic_methods.keys())}")
    print(f"Data (Avg Nodes): {node_chart_data}")

    # Note: The original example for just Manhattan was removed to avoid confusion
    # with the new "all heuristics" visual comparison below.


if __name__ == "__main__":
    TOTAL_EXPERIMENT_RUNS = 60
    MAP_WIDTH = 25
    MAP_HEIGHT = 25
    OBSTACLE_DENSITY_PERCENT = 28

    print("="*40)
    print("  Running Statistical Heuristic Comparison  ")
    print("="*40)
    run_heuristic_comparison(TOTAL_EXPERIMENT_RUNS, MAP_WIDTH, MAP_HEIGHT, OBSTACLE_DENSITY_PERCENT)

    print("\n\n" + "="*40)
    print("  Visual Path Comparison on a Single Grid  ")
    print("="*40 + "\n")

    heuristic_methods_visual = {
        "Manhattan": heuristic_manhattan,
        "Euclidean": heuristic_euclidean,
        "Diagonal": heuristic_diagonal,
        "Zero (Dijkstra)": heuristic_zero
    }

    print(f"Generating a single {MAP_WIDTH}x{MAP_HEIGHT} grid with {OBSTACLE_DENSITY_PERCENT}% obstacles...")
    grid_map_visual, start_coords_visual, goal_coords_visual = generate_grid_map(MAP_WIDTH, MAP_HEIGHT, OBSTACLE_DENSITY_PERCENT)
    
    print(f"Start: {start_coords_visual}, Goal: {goal_coords_visual}\n")

    for heuristic_name, h_function in heuristic_methods_visual.items():
        print("\n" + "---" * 15)
        print(f"  Result using: {heuristic_name} Heuristic  ")
        print("---" * 15)

        path_coords, nodes_expanded, path_len = find_a_star_path(
            grid_map_visual, 
            start_coords_visual, 
            goal_coords_visual, 
            h_function
        )

        if path_coords:
            print(f"Path found! Length: {path_len}, Nodes Expanded: {nodes_expanded}")
            display_path_on_grid(grid_map_visual, path_coords)
        else:
            print("No path found for this heuristic on this grid.")
    
    print("\n" + "="*40)
    print("  Visual Comparison Complete  ")
    print("="*40 + "\n")
